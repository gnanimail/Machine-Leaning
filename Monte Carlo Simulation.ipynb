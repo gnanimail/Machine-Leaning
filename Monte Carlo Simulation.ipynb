{
 "cells": [
  {
   "cell_type": "markdown",
   "metadata": {},
   "source": [
    "# Monte Carlo Simulation"
   ]
  },
  {
   "cell_type": "markdown",
   "metadata": {},
   "source": [
    "\n",
    "A Monte Carlo method is a technique that uses random numbers and probability to solve complex problems. \n",
    "The Monte Carlo simulation, or probability simulation, is a technique used to understand the impact of risk and \n",
    "uncertainty in financial sectors, project management, costs, and other forecasting machine learning models.\n",
    "\n",
    "The Monte Carlo simulation allows us to see all the possible outcomes of our decisions and assess risk impact, in consequence allowing better decision making under uncertainty."
   ]
  },
  {
   "cell_type": "markdown",
   "metadata": {},
   "source": [
    "# Coin Flip"
   ]
  },
  {
   "cell_type": "markdown",
   "metadata": {},
   "source": [
    "The probability of head for a fair coin is 1/2. Using Monte-Carlo method to simulate the coin-flipping iteratively 5000 times to find out why the probability of a head or tail is always 1/2. If we repeat this coin flipping many, many more times, then we can achieve higher accuracy on an exact answer for our probability value."
   ]
  },
  {
   "cell_type": "code",
   "execution_count": 1,
   "metadata": {},
   "outputs": [],
   "source": [
    "import random\n",
    "import numpy as np\n",
    "import matplotlib.pyplot as plt"
   ]
  },
  {
   "cell_type": "code",
   "execution_count": 2,
   "metadata": {},
   "outputs": [],
   "source": [
    "#Coin flip function :\n",
    "\n",
    "#0 --> Heads\n",
    "#1 --> Tails\n",
    "\n",
    "def coin_flip():\n",
    "    return random.randint(0,1)"
   ]
  },
  {
   "cell_type": "code",
   "execution_count": 3,
   "metadata": {},
   "outputs": [],
   "source": [
    "#Monte Carlo Simulation :\n",
    "\n",
    "#Empty list to store the probability values.\n",
    "simulation = []\n",
    "\n",
    "def monte_carlo(n):\n",
    "    results = 0\n",
    "    for i in range(n):\n",
    "        flip_result = coin_flip()\n",
    "        results = results + flip_result\n",
    "        \n",
    "        #Calculating probability value :\n",
    "        prob_value = results/(i+1)\n",
    "        \n",
    "        #Append the probability values to the list :\n",
    "        simulation.append(prob_value)\n",
    "\n",
    "        #Plot the results :\n",
    "        plt.axhline(y=0.5, color='r', linestyle='-')\n",
    "        plt.xlabel(\"Iterations\")\n",
    "        plt.ylabel(\"Probability\")\n",
    "        plt.plot(simulation)\n",
    "       \n",
    "    return results/n"
   ]
  },
  {
   "cell_type": "code",
   "execution_count": 4,
   "metadata": {},
   "outputs": [
    {
     "name": "stdout",
     "output_type": "stream",
     "text": [
      "10 Sim:  0.6\n",
      "100 Sim:  0.49\n",
      "500 Sim:  0.504\n",
      "1000 Sim:  0.482\n",
      "5000 Sim:  0.5064\n"
     ]
    },
    {
     "data": {
      "image/png": "[encoded data removed]",
      "text/plain": [
       "<Figure size 432x288 with 1 Axes>"
      ]
     },
     "metadata": {
      "needs_background": "light"
     },
     "output_type": "display_data"
    }
   ],
   "source": [
    "### Calling Simulation\n",
    "\n",
    "probablity = monte_carlo(10)\n",
    "print('10 Sim: ', probablity)\n",
    "\n",
    "probablity = monte_carlo(100)\n",
    "print('100 Sim: ', probablity)\n",
    "\n",
    "probablity = monte_carlo(500)\n",
    "print('500 Sim: ', probablity)\n",
    "\n",
    "probablity = monte_carlo(1000)\n",
    "print('1000 Sim: ', probablity)\n",
    "\n",
    "probablity = monte_carlo(5000)\n",
    "print('5000 Sim: ', probablity)"
   ]
  },
  {
   "cell_type": "markdown",
   "metadata": {},
   "source": [
    "After 5000 iterations, the probability of getting a tail is 0.5064. Consequently, this is how we can use the Monte Carlo Simulation to find probabilities experimentally.\n"
   ]
  },
  {
   "cell_type": "code",
   "execution_count": null,
   "metadata": {},
   "outputs": [],
   "source": []
  },
  {
   "cell_type": "code",
   "execution_count": null,
   "metadata": {},
   "outputs": [],
   "source": []
  },
  {
   "cell_type": "markdown",
   "metadata": {},
   "source": [
    "# Predict how much money we should budget for sales commissions for the next year."
   ]
  },
  {
   "cell_type": "code",
   "execution_count": 5,
   "metadata": {},
   "outputs": [],
   "source": [
    "import pandas as pd\n",
    "import numpy as np\n",
    "import seaborn as sns"
   ]
  },
  {
   "cell_type": "code",
   "execution_count": 6,
   "metadata": {},
   "outputs": [],
   "source": [
    "sns.set_style('whitegrid')"
   ]
  },
  {
   "cell_type": "code",
   "execution_count": 7,
   "metadata": {},
   "outputs": [],
   "source": [
    "# Define the variables for the Percent to target based on historical results\n",
    "avg = 1\n",
    "std_dev = .1\n",
    "num_reps = 500"
   ]
  },
  {
   "cell_type": "code",
   "execution_count": 8,
   "metadata": {},
   "outputs": [],
   "source": [
    "# Show an example of calculating the percent to target\n",
    "pct_to_target = np.random.normal(avg, std_dev, num_reps).round(2)"
   ]
  },
  {
   "cell_type": "code",
   "execution_count": 9,
   "metadata": {},
   "outputs": [
    {
     "data": {
      "text/plain": [
       "array([0.85, 0.96, 1.05, 0.97, 0.97, 1.08, 0.92, 0.94, 0.93, 0.79])"
      ]
     },
     "execution_count": 9,
     "metadata": {},
     "output_type": "execute_result"
    }
   ],
   "source": [
    "pct_to_target[0:10]"
   ]
  },
  {
   "cell_type": "code",
   "execution_count": 10,
   "metadata": {},
   "outputs": [],
   "source": [
    "# Another example for the sales target distribution\n",
    "sales_target_values = [75000, 100000, 200000, 300000, 400000, 500000]\n",
    "sales_target_prob = [.3, .3, .2, .1, .05, .05]\n",
    "sales_target = np.random.choice(sales_target_values, num_reps, p=sales_target_prob)"
   ]
  },
  {
   "cell_type": "code",
   "execution_count": 11,
   "metadata": {},
   "outputs": [
    {
     "data": {
      "text/plain": [
       "array([300000,  75000, 300000, 200000, 400000,  75000, 200000, 200000,\n",
       "       100000,  75000])"
      ]
     },
     "execution_count": 11,
     "metadata": {},
     "output_type": "execute_result"
    }
   ],
   "source": [
    "sales_target[0:10]"
   ]
  },
  {
   "cell_type": "code",
   "execution_count": 12,
   "metadata": {},
   "outputs": [
    {
     "data": {
      "text/html": [
       "<div>\n",
       "<style scoped>\n",
       "    .dataframe tbody tr th:only-of-type {\n",
       "        vertical-align: middle;\n",
       "    }\n",
       "\n",
       "    .dataframe tbody tr th {\n",
       "        vertical-align: top;\n",
       "    }\n",
       "\n",
       "    .dataframe thead th {\n",
       "        text-align: right;\n",
       "    }\n",
       "</style>\n",
       "<table border=\"1\" class=\"dataframe\">\n",
       "  <thead>\n",
       "    <tr style=\"text-align: right;\">\n",
       "      <th></th>\n",
       "      <th>Pct_To_Target</th>\n",
       "      <th>Sales_Target</th>\n",
       "    </tr>\n",
       "  </thead>\n",
       "  <tbody>\n",
       "    <tr>\n",
       "      <td>0</td>\n",
       "      <td>0.85</td>\n",
       "      <td>300000</td>\n",
       "    </tr>\n",
       "    <tr>\n",
       "      <td>1</td>\n",
       "      <td>0.96</td>\n",
       "      <td>75000</td>\n",
       "    </tr>\n",
       "    <tr>\n",
       "      <td>2</td>\n",
       "      <td>1.05</td>\n",
       "      <td>300000</td>\n",
       "    </tr>\n",
       "    <tr>\n",
       "      <td>3</td>\n",
       "      <td>0.97</td>\n",
       "      <td>200000</td>\n",
       "    </tr>\n",
       "    <tr>\n",
       "      <td>4</td>\n",
       "      <td>0.97</td>\n",
       "      <td>400000</td>\n",
       "    </tr>\n",
       "    <tr>\n",
       "      <td>...</td>\n",
       "      <td>...</td>\n",
       "      <td>...</td>\n",
       "    </tr>\n",
       "    <tr>\n",
       "      <td>495</td>\n",
       "      <td>0.91</td>\n",
       "      <td>500000</td>\n",
       "    </tr>\n",
       "    <tr>\n",
       "      <td>496</td>\n",
       "      <td>1.05</td>\n",
       "      <td>100000</td>\n",
       "    </tr>\n",
       "    <tr>\n",
       "      <td>497</td>\n",
       "      <td>1.06</td>\n",
       "      <td>100000</td>\n",
       "    </tr>\n",
       "    <tr>\n",
       "      <td>498</td>\n",
       "      <td>0.95</td>\n",
       "      <td>75000</td>\n",
       "    </tr>\n",
       "    <tr>\n",
       "      <td>499</td>\n",
       "      <td>0.95</td>\n",
       "      <td>75000</td>\n",
       "    </tr>\n",
       "  </tbody>\n",
       "</table>\n",
       "<p>500 rows × 2 columns</p>\n",
       "</div>"
      ],
      "text/plain": [
       "     Pct_To_Target  Sales_Target\n",
       "0             0.85        300000\n",
       "1             0.96         75000\n",
       "2             1.05        300000\n",
       "3             0.97        200000\n",
       "4             0.97        400000\n",
       "..             ...           ...\n",
       "495           0.91        500000\n",
       "496           1.05        100000\n",
       "497           1.06        100000\n",
       "498           0.95         75000\n",
       "499           0.95         75000\n",
       "\n",
       "[500 rows x 2 columns]"
      ]
     },
     "execution_count": 12,
     "metadata": {},
     "output_type": "execute_result"
    }
   ],
   "source": [
    "# Show how to create the dataframe\n",
    "df = pd.DataFrame(index=range(num_reps), data={'Pct_To_Target': pct_to_target,\n",
    "                                               'Sales_Target': sales_target})\n",
    "\n",
    "df"
   ]
  },
  {
   "cell_type": "code",
   "execution_count": 13,
   "metadata": {},
   "outputs": [
    {
     "data": {
      "text/plain": [
       "<matplotlib.axes._subplots.AxesSubplot at 0x21f270f1128>"
      ]
     },
     "execution_count": 13,
     "metadata": {},
     "output_type": "execute_result"
    },
    {
     "data": {
      "image/png": "[encoded data removed]",
      "text/plain": [
       "<Figure size 432x288 with 1 Axes>"
      ]
     },
     "metadata": {},
     "output_type": "display_data"
    }
   ],
   "source": [
    "# Simple histogram to confirm distribution looks as expected\n",
    "df['Pct_To_Target'].plot(kind='hist', title='Historical % to Target Distribution')"
   ]
  },
  {
   "cell_type": "code",
   "execution_count": 14,
   "metadata": {},
   "outputs": [
    {
     "data": {
      "text/plain": [
       "<matplotlib.axes._subplots.AxesSubplot at 0x21f1fac9630>"
      ]
     },
     "execution_count": 14,
     "metadata": {},
     "output_type": "execute_result"
    },
    {
     "data": {
      "image/png": "[encoded data removed]",
      "text/plain": [
       "<Figure size 432x288 with 1 Axes>"
      ]
     },
     "metadata": {},
     "output_type": "display_data"
    }
   ],
   "source": [
    "# Look at the sales target distribution\n",
    "df['Sales_Target'].plot(kind='hist', title='Historical Sales Target Distribution')"
   ]
  },
  {
   "cell_type": "code",
   "execution_count": 15,
   "metadata": {},
   "outputs": [],
   "source": [
    "# Back into the actual sales amount\n",
    "df['Sales'] = df['Pct_To_Target'] * df['Sales_Target']"
   ]
  },
  {
   "cell_type": "code",
   "execution_count": 16,
   "metadata": {},
   "outputs": [],
   "source": [
    "def calc_commission_rate(x):\n",
    "    \"\"\" Return the commission rate based on the table:\n",
    "    0-90% = 2%\n",
    "    91-99% = 3%\n",
    "    >= 100 = 4%\n",
    "    \"\"\"\n",
    "    if x <= .90:\n",
    "        return .02\n",
    "    if x <= .99:\n",
    "        return .03\n",
    "    else:\n",
    "        return .04"
   ]
  },
  {
   "cell_type": "code",
   "execution_count": 17,
   "metadata": {},
   "outputs": [
    {
     "data": {
      "text/html": [
       "<div>\n",
       "<style scoped>\n",
       "    .dataframe tbody tr th:only-of-type {\n",
       "        vertical-align: middle;\n",
       "    }\n",
       "\n",
       "    .dataframe tbody tr th {\n",
       "        vertical-align: top;\n",
       "    }\n",
       "\n",
       "    .dataframe thead th {\n",
       "        text-align: right;\n",
       "    }\n",
       "</style>\n",
       "<table border=\"1\" class=\"dataframe\">\n",
       "  <thead>\n",
       "    <tr style=\"text-align: right;\">\n",
       "      <th></th>\n",
       "      <th>Pct_To_Target</th>\n",
       "      <th>Sales_Target</th>\n",
       "      <th>Sales</th>\n",
       "      <th>Commission_Rate</th>\n",
       "    </tr>\n",
       "  </thead>\n",
       "  <tbody>\n",
       "    <tr>\n",
       "      <td>0</td>\n",
       "      <td>0.85</td>\n",
       "      <td>300000</td>\n",
       "      <td>255000.0</td>\n",
       "      <td>0.02</td>\n",
       "    </tr>\n",
       "    <tr>\n",
       "      <td>1</td>\n",
       "      <td>0.96</td>\n",
       "      <td>75000</td>\n",
       "      <td>72000.0</td>\n",
       "      <td>0.03</td>\n",
       "    </tr>\n",
       "    <tr>\n",
       "      <td>2</td>\n",
       "      <td>1.05</td>\n",
       "      <td>300000</td>\n",
       "      <td>315000.0</td>\n",
       "      <td>0.04</td>\n",
       "    </tr>\n",
       "    <tr>\n",
       "      <td>3</td>\n",
       "      <td>0.97</td>\n",
       "      <td>200000</td>\n",
       "      <td>194000.0</td>\n",
       "      <td>0.03</td>\n",
       "    </tr>\n",
       "    <tr>\n",
       "      <td>4</td>\n",
       "      <td>0.97</td>\n",
       "      <td>400000</td>\n",
       "      <td>388000.0</td>\n",
       "      <td>0.03</td>\n",
       "    </tr>\n",
       "    <tr>\n",
       "      <td>...</td>\n",
       "      <td>...</td>\n",
       "      <td>...</td>\n",
       "      <td>...</td>\n",
       "      <td>...</td>\n",
       "    </tr>\n",
       "    <tr>\n",
       "      <td>495</td>\n",
       "      <td>0.91</td>\n",
       "      <td>500000</td>\n",
       "      <td>455000.0</td>\n",
       "      <td>0.03</td>\n",
       "    </tr>\n",
       "    <tr>\n",
       "      <td>496</td>\n",
       "      <td>1.05</td>\n",
       "      <td>100000</td>\n",
       "      <td>105000.0</td>\n",
       "      <td>0.04</td>\n",
       "    </tr>\n",
       "    <tr>\n",
       "      <td>497</td>\n",
       "      <td>1.06</td>\n",
       "      <td>100000</td>\n",
       "      <td>106000.0</td>\n",
       "      <td>0.04</td>\n",
       "    </tr>\n",
       "    <tr>\n",
       "      <td>498</td>\n",
       "      <td>0.95</td>\n",
       "      <td>75000</td>\n",
       "      <td>71250.0</td>\n",
       "      <td>0.03</td>\n",
       "    </tr>\n",
       "    <tr>\n",
       "      <td>499</td>\n",
       "      <td>0.95</td>\n",
       "      <td>75000</td>\n",
       "      <td>71250.0</td>\n",
       "      <td>0.03</td>\n",
       "    </tr>\n",
       "  </tbody>\n",
       "</table>\n",
       "<p>500 rows × 4 columns</p>\n",
       "</div>"
      ],
      "text/plain": [
       "     Pct_To_Target  Sales_Target     Sales  Commission_Rate\n",
       "0             0.85        300000  255000.0             0.02\n",
       "1             0.96         75000   72000.0             0.03\n",
       "2             1.05        300000  315000.0             0.04\n",
       "3             0.97        200000  194000.0             0.03\n",
       "4             0.97        400000  388000.0             0.03\n",
       "..             ...           ...       ...              ...\n",
       "495           0.91        500000  455000.0             0.03\n",
       "496           1.05        100000  105000.0             0.04\n",
       "497           1.06        100000  106000.0             0.04\n",
       "498           0.95         75000   71250.0             0.03\n",
       "499           0.95         75000   71250.0             0.03\n",
       "\n",
       "[500 rows x 4 columns]"
      ]
     },
     "execution_count": 17,
     "metadata": {},
     "output_type": "execute_result"
    }
   ],
   "source": [
    "df['Commission_Rate'] = df['Pct_To_Target'].apply(calc_commission_rate)\n",
    "\n",
    "df"
   ]
  },
  {
   "cell_type": "code",
   "execution_count": 18,
   "metadata": {},
   "outputs": [],
   "source": [
    "# Calculate the commissions\n",
    "df['Commission_Amount'] = df['Commission_Rate'] * df['Sales']"
   ]
  },
  {
   "cell_type": "code",
   "execution_count": 19,
   "metadata": {},
   "outputs": [
    {
     "name": "stdout",
     "output_type": "stream",
     "text": [
      "84775750.0 2905847.5 84650000\n"
     ]
    }
   ],
   "source": [
    "print(df['Sales'].sum(), df['Commission_Amount'].sum(), df['Sales_Target'].sum())"
   ]
  },
  {
   "cell_type": "code",
   "execution_count": 20,
   "metadata": {},
   "outputs": [
    {
     "data": {
      "text/html": [
       "<div>\n",
       "<style scoped>\n",
       "    .dataframe tbody tr th:only-of-type {\n",
       "        vertical-align: middle;\n",
       "    }\n",
       "\n",
       "    .dataframe tbody tr th {\n",
       "        vertical-align: top;\n",
       "    }\n",
       "\n",
       "    .dataframe thead th {\n",
       "        text-align: right;\n",
       "    }\n",
       "</style>\n",
       "<table border=\"1\" class=\"dataframe\">\n",
       "  <thead>\n",
       "    <tr style=\"text-align: right;\">\n",
       "      <th></th>\n",
       "      <th>Pct_To_Target</th>\n",
       "      <th>Sales_Target</th>\n",
       "      <th>Sales</th>\n",
       "      <th>Commission_Rate</th>\n",
       "      <th>Commission_Amount</th>\n",
       "    </tr>\n",
       "  </thead>\n",
       "  <tbody>\n",
       "    <tr>\n",
       "      <td>count</td>\n",
       "      <td>500.00000</td>\n",
       "      <td>500.000000</td>\n",
       "      <td>500.000000</td>\n",
       "      <td>500.000000</td>\n",
       "      <td>500.000000</td>\n",
       "    </tr>\n",
       "    <tr>\n",
       "      <td>mean</td>\n",
       "      <td>0.99854</td>\n",
       "      <td>169300.000000</td>\n",
       "      <td>169551.500000</td>\n",
       "      <td>0.033440</td>\n",
       "      <td>5811.695000</td>\n",
       "    </tr>\n",
       "    <tr>\n",
       "      <td>std</td>\n",
       "      <td>0.09443</td>\n",
       "      <td>120495.012744</td>\n",
       "      <td>123379.075476</td>\n",
       "      <td>0.007448</td>\n",
       "      <td>4726.422779</td>\n",
       "    </tr>\n",
       "    <tr>\n",
       "      <td>min</td>\n",
       "      <td>0.71000</td>\n",
       "      <td>75000.000000</td>\n",
       "      <td>58500.000000</td>\n",
       "      <td>0.020000</td>\n",
       "      <td>1170.000000</td>\n",
       "    </tr>\n",
       "    <tr>\n",
       "      <td>25%</td>\n",
       "      <td>0.93750</td>\n",
       "      <td>75000.000000</td>\n",
       "      <td>80250.000000</td>\n",
       "      <td>0.030000</td>\n",
       "      <td>2842.500000</td>\n",
       "    </tr>\n",
       "    <tr>\n",
       "      <td>50%</td>\n",
       "      <td>1.00000</td>\n",
       "      <td>100000.000000</td>\n",
       "      <td>105000.000000</td>\n",
       "      <td>0.040000</td>\n",
       "      <td>4080.000000</td>\n",
       "    </tr>\n",
       "    <tr>\n",
       "      <td>75%</td>\n",
       "      <td>1.06000</td>\n",
       "      <td>200000.000000</td>\n",
       "      <td>212000.000000</td>\n",
       "      <td>0.040000</td>\n",
       "      <td>8240.000000</td>\n",
       "    </tr>\n",
       "    <tr>\n",
       "      <td>max</td>\n",
       "      <td>1.32000</td>\n",
       "      <td>500000.000000</td>\n",
       "      <td>590000.000000</td>\n",
       "      <td>0.040000</td>\n",
       "      <td>23600.000000</td>\n",
       "    </tr>\n",
       "  </tbody>\n",
       "</table>\n",
       "</div>"
      ],
      "text/plain": [
       "       Pct_To_Target   Sales_Target          Sales  Commission_Rate  \\\n",
       "count      500.00000     500.000000     500.000000       500.000000   \n",
       "mean         0.99854  169300.000000  169551.500000         0.033440   \n",
       "std          0.09443  120495.012744  123379.075476         0.007448   \n",
       "min          0.71000   75000.000000   58500.000000         0.020000   \n",
       "25%          0.93750   75000.000000   80250.000000         0.030000   \n",
       "50%          1.00000  100000.000000  105000.000000         0.040000   \n",
       "75%          1.06000  200000.000000  212000.000000         0.040000   \n",
       "max          1.32000  500000.000000  590000.000000         0.040000   \n",
       "\n",
       "       Commission_Amount  \n",
       "count         500.000000  \n",
       "mean         5811.695000  \n",
       "std          4726.422779  \n",
       "min          1170.000000  \n",
       "25%          2842.500000  \n",
       "50%          4080.000000  \n",
       "75%          8240.000000  \n",
       "max         23600.000000  "
      ]
     },
     "execution_count": 20,
     "metadata": {},
     "output_type": "execute_result"
    }
   ],
   "source": [
    "df.describe()"
   ]
  },
  {
   "cell_type": "code",
   "execution_count": 21,
   "metadata": {},
   "outputs": [],
   "source": [
    "# Define a list to keep all the results from each simulation that we want to analyze\n",
    "all_stats = []\n",
    "\n",
    "num_simulations = 1000\n",
    "\n",
    "# Loop through many simulations\n",
    "for i in range(num_simulations):\n",
    "    \n",
    "    # Choose random inputs for the sales targets and percent to target\n",
    "    sales_target = np.random.choice(sales_target_values, num_reps, p=sales_target_prob)\n",
    "    pct_to_target = np.random.normal(avg, std_dev, num_reps).round(2)\n",
    "    \n",
    "    # Build the dataframe based on the inputs and number of reps\n",
    "    df = pd.DataFrame(index=range(num_reps), data={'Pct_To_Target': pct_to_target,\n",
    "                                                   'Sales_Target': sales_target})\n",
    "    \n",
    "    # Back into the sales number using the percent to target rate\n",
    "    df['Sales'] = df['Pct_To_Target'] * df['Sales_Target']\n",
    "    \n",
    "    # Determine the commissions rate and calculate it\n",
    "    df['Commission_Rate'] = df['Pct_To_Target'].apply(calc_commission_rate)\n",
    "    df['Commission_Amount'] = df['Commission_Rate'] * df['Sales']\n",
    "    \n",
    "    # We want to track sales,commission amounts and sales targets over all the simulations\n",
    "    all_stats.append([df['Sales'].sum().round(0), \n",
    "                      df['Commission_Amount'].sum().round(0), \n",
    "                      df['Sales_Target'].sum().round(0)])"
   ]
  },
  {
   "cell_type": "code",
   "execution_count": 22,
   "metadata": {},
   "outputs": [],
   "source": [
    "results_df = pd.DataFrame.from_records(all_stats, columns=['Sales', 'Commission_Amount', 'Sales_Target'])"
   ]
  },
  {
   "cell_type": "code",
   "execution_count": 23,
   "metadata": {},
   "outputs": [
    {
     "data": {
      "text/html": [
       "<div>\n",
       "<style scoped>\n",
       "    .dataframe tbody tr th:only-of-type {\n",
       "        vertical-align: middle;\n",
       "    }\n",
       "\n",
       "    .dataframe tbody tr th {\n",
       "        vertical-align: top;\n",
       "    }\n",
       "\n",
       "    .dataframe thead th {\n",
       "        text-align: right;\n",
       "    }\n",
       "</style>\n",
       "<table border=\"1\" class=\"dataframe\">\n",
       "  <thead>\n",
       "    <tr style=\"text-align: right;\">\n",
       "      <th></th>\n",
       "      <th>Sales</th>\n",
       "      <th>Commission_Amount</th>\n",
       "      <th>Sales_Target</th>\n",
       "    </tr>\n",
       "  </thead>\n",
       "  <tbody>\n",
       "    <tr>\n",
       "      <td>0</td>\n",
       "      <td>78192000.0</td>\n",
       "      <td>2629062.0</td>\n",
       "      <td>78250000</td>\n",
       "    </tr>\n",
       "    <tr>\n",
       "      <td>1</td>\n",
       "      <td>83016750.0</td>\n",
       "      <td>2877038.0</td>\n",
       "      <td>82775000</td>\n",
       "    </tr>\n",
       "    <tr>\n",
       "      <td>2</td>\n",
       "      <td>78003750.0</td>\n",
       "      <td>2672100.0</td>\n",
       "      <td>77775000</td>\n",
       "    </tr>\n",
       "    <tr>\n",
       "      <td>3</td>\n",
       "      <td>84806000.0</td>\n",
       "      <td>2889295.0</td>\n",
       "      <td>84525000</td>\n",
       "    </tr>\n",
       "    <tr>\n",
       "      <td>4</td>\n",
       "      <td>87298750.0</td>\n",
       "      <td>3035680.0</td>\n",
       "      <td>86850000</td>\n",
       "    </tr>\n",
       "    <tr>\n",
       "      <td>5</td>\n",
       "      <td>82534250.0</td>\n",
       "      <td>2846040.0</td>\n",
       "      <td>82350000</td>\n",
       "    </tr>\n",
       "    <tr>\n",
       "      <td>6</td>\n",
       "      <td>83675000.0</td>\n",
       "      <td>2859300.0</td>\n",
       "      <td>83475000</td>\n",
       "    </tr>\n",
       "    <tr>\n",
       "      <td>7</td>\n",
       "      <td>84406750.0</td>\n",
       "      <td>2968262.0</td>\n",
       "      <td>83025000</td>\n",
       "    </tr>\n",
       "    <tr>\n",
       "      <td>8</td>\n",
       "      <td>84186500.0</td>\n",
       "      <td>2855330.0</td>\n",
       "      <td>84625000</td>\n",
       "    </tr>\n",
       "    <tr>\n",
       "      <td>9</td>\n",
       "      <td>84504500.0</td>\n",
       "      <td>2883665.0</td>\n",
       "      <td>84350000</td>\n",
       "    </tr>\n",
       "  </tbody>\n",
       "</table>\n",
       "</div>"
      ],
      "text/plain": [
       "        Sales  Commission_Amount  Sales_Target\n",
       "0  78192000.0          2629062.0      78250000\n",
       "1  83016750.0          2877038.0      82775000\n",
       "2  78003750.0          2672100.0      77775000\n",
       "3  84806000.0          2889295.0      84525000\n",
       "4  87298750.0          3035680.0      86850000\n",
       "5  82534250.0          2846040.0      82350000\n",
       "6  83675000.0          2859300.0      83475000\n",
       "7  84406750.0          2968262.0      83025000\n",
       "8  84186500.0          2855330.0      84625000\n",
       "9  84504500.0          2883665.0      84350000"
      ]
     },
     "execution_count": 23,
     "metadata": {},
     "output_type": "execute_result"
    }
   ],
   "source": [
    "results_df.head(10)"
   ]
  },
  {
   "cell_type": "code",
   "execution_count": 24,
   "metadata": {},
   "outputs": [
    {
     "data": {
      "text/html": [
       "<style  type=\"text/css\" >\n",
       "</style><table id=\"T_ab793424_b0cf_11eb_9d14_a44cc8434b82\" ><thead>    <tr>        <th class=\"blank level0\" ></th>        <th class=\"col_heading level0 col0\" >Sales</th>        <th class=\"col_heading level0 col1\" >Commission_Amount</th>        <th class=\"col_heading level0 col2\" >Sales_Target</th>    </tr></thead><tbody>\n",
       "                <tr>\n",
       "                        <th id=\"T_ab793424_b0cf_11eb_9d14_a44cc8434b82level0_row0\" class=\"row_heading level0 row0\" >count</th>\n",
       "                        <td id=\"T_ab793424_b0cf_11eb_9d14_a44cc8434b82row0_col0\" class=\"data row0 col0\" >1,000.0</td>\n",
       "                        <td id=\"T_ab793424_b0cf_11eb_9d14_a44cc8434b82row0_col1\" class=\"data row0 col1\" >1,000.0</td>\n",
       "                        <td id=\"T_ab793424_b0cf_11eb_9d14_a44cc8434b82row0_col2\" class=\"data row0 col2\" >1,000.0</td>\n",
       "            </tr>\n",
       "            <tr>\n",
       "                        <th id=\"T_ab793424_b0cf_11eb_9d14_a44cc8434b82level0_row1\" class=\"row_heading level0 row1\" >mean</th>\n",
       "                        <td id=\"T_ab793424_b0cf_11eb_9d14_a44cc8434b82row1_col0\" class=\"data row1 col0\" >83,792,355.0</td>\n",
       "                        <td id=\"T_ab793424_b0cf_11eb_9d14_a44cc8434b82row1_col1\" class=\"data row1 col1\" >2,861,434.0</td>\n",
       "                        <td id=\"T_ab793424_b0cf_11eb_9d14_a44cc8434b82row1_col2\" class=\"data row1 col2\" >83,793,850.0</td>\n",
       "            </tr>\n",
       "            <tr>\n",
       "                        <th id=\"T_ab793424_b0cf_11eb_9d14_a44cc8434b82level0_row2\" class=\"row_heading level0 row2\" >std</th>\n",
       "                        <td id=\"T_ab793424_b0cf_11eb_9d14_a44cc8434b82row2_col0\" class=\"data row2 col0\" >2,684,991.0</td>\n",
       "                        <td id=\"T_ab793424_b0cf_11eb_9d14_a44cc8434b82row2_col1\" class=\"data row2 col1\" >101,496.0</td>\n",
       "                        <td id=\"T_ab793424_b0cf_11eb_9d14_a44cc8434b82row2_col2\" class=\"data row2 col2\" >2,650,880.0</td>\n",
       "            </tr>\n",
       "            <tr>\n",
       "                        <th id=\"T_ab793424_b0cf_11eb_9d14_a44cc8434b82level0_row3\" class=\"row_heading level0 row3\" >min</th>\n",
       "                        <td id=\"T_ab793424_b0cf_11eb_9d14_a44cc8434b82row3_col0\" class=\"data row3 col0\" >75,638,750.0</td>\n",
       "                        <td id=\"T_ab793424_b0cf_11eb_9d14_a44cc8434b82row3_col1\" class=\"data row3 col1\" >2,574,818.0</td>\n",
       "                        <td id=\"T_ab793424_b0cf_11eb_9d14_a44cc8434b82row3_col2\" class=\"data row3 col2\" >75,550,000.0</td>\n",
       "            </tr>\n",
       "            <tr>\n",
       "                        <th id=\"T_ab793424_b0cf_11eb_9d14_a44cc8434b82level0_row4\" class=\"row_heading level0 row4\" >25%</th>\n",
       "                        <td id=\"T_ab793424_b0cf_11eb_9d14_a44cc8434b82row4_col0\" class=\"data row4 col0\" >81,973,688.0</td>\n",
       "                        <td id=\"T_ab793424_b0cf_11eb_9d14_a44cc8434b82row4_col1\" class=\"data row4 col1\" >2,790,351.0</td>\n",
       "                        <td id=\"T_ab793424_b0cf_11eb_9d14_a44cc8434b82row4_col2\" class=\"data row4 col2\" >82,000,000.0</td>\n",
       "            </tr>\n",
       "            <tr>\n",
       "                        <th id=\"T_ab793424_b0cf_11eb_9d14_a44cc8434b82level0_row5\" class=\"row_heading level0 row5\" >50%</th>\n",
       "                        <td id=\"T_ab793424_b0cf_11eb_9d14_a44cc8434b82row5_col0\" class=\"data row5 col0\" >83,847,625.0</td>\n",
       "                        <td id=\"T_ab793424_b0cf_11eb_9d14_a44cc8434b82row5_col1\" class=\"data row5 col1\" >2,863,508.0</td>\n",
       "                        <td id=\"T_ab793424_b0cf_11eb_9d14_a44cc8434b82row5_col2\" class=\"data row5 col2\" >83,800,000.0</td>\n",
       "            </tr>\n",
       "            <tr>\n",
       "                        <th id=\"T_ab793424_b0cf_11eb_9d14_a44cc8434b82level0_row6\" class=\"row_heading level0 row6\" >75%</th>\n",
       "                        <td id=\"T_ab793424_b0cf_11eb_9d14_a44cc8434b82row6_col0\" class=\"data row6 col0\" >85,576,625.0</td>\n",
       "                        <td id=\"T_ab793424_b0cf_11eb_9d14_a44cc8434b82row6_col1\" class=\"data row6 col1\" >2,929,758.0</td>\n",
       "                        <td id=\"T_ab793424_b0cf_11eb_9d14_a44cc8434b82row6_col2\" class=\"data row6 col2\" >85,575,000.0</td>\n",
       "            </tr>\n",
       "            <tr>\n",
       "                        <th id=\"T_ab793424_b0cf_11eb_9d14_a44cc8434b82level0_row7\" class=\"row_heading level0 row7\" >max</th>\n",
       "                        <td id=\"T_ab793424_b0cf_11eb_9d14_a44cc8434b82row7_col0\" class=\"data row7 col0\" >94,400,000.0</td>\n",
       "                        <td id=\"T_ab793424_b0cf_11eb_9d14_a44cc8434b82row7_col1\" class=\"data row7 col1\" >3,262,318.0</td>\n",
       "                        <td id=\"T_ab793424_b0cf_11eb_9d14_a44cc8434b82row7_col2\" class=\"data row7 col2\" >93,750,000.0</td>\n",
       "            </tr>\n",
       "    </tbody></table>"
      ],
      "text/plain": [
       "<pandas.io.formats.style.Styler at 0x21f174345c0>"
      ]
     },
     "execution_count": 24,
     "metadata": {},
     "output_type": "execute_result"
    }
   ],
   "source": [
    "results_df.describe().round(0).style.format('{:,}')"
   ]
  },
  {
   "cell_type": "code",
   "execution_count": 25,
   "metadata": {},
   "outputs": [
    {
     "data": {
      "text/plain": [
       "<matplotlib.axes._subplots.AxesSubplot at 0x21f7ac87898>"
      ]
     },
     "execution_count": 25,
     "metadata": {},
     "output_type": "execute_result"
    },
    {
     "data": {
      "image/png": "[encoded data removed]",
      "text/plain": [
       "<Figure size 432x288 with 1 Axes>"
      ]
     },
     "metadata": {},
     "output_type": "display_data"
    }
   ],
   "source": [
    "results_df['Sales'].plot(kind='hist', title=\"Sales\")"
   ]
  },
  {
   "cell_type": "code",
   "execution_count": 29,
   "metadata": {},
   "outputs": [
    {
     "data": {
      "text/plain": [
       "<matplotlib.axes._subplots.AxesSubplot at 0x21f74328748>"
      ]
     },
     "execution_count": 29,
     "metadata": {},
     "output_type": "execute_result"
    },
    {
     "data": {
      "image/png": "[encoded data removed]",
      "text/plain": [
       "<Figure size 432x288 with 1 Axes>"
      ]
     },
     "metadata": {},
     "output_type": "display_data"
    }
   ],
   "source": [
    "results_df['Sales_Target'].plot(kind='hist', title=\"Sales Target\")"
   ]
  },
  {
   "cell_type": "code",
   "execution_count": 30,
   "metadata": {},
   "outputs": [
    {
     "data": {
      "text/plain": [
       "<matplotlib.axes._subplots.AxesSubplot at 0x21f7ab960f0>"
      ]
     },
     "execution_count": 30,
     "metadata": {},
     "output_type": "execute_result"
    },
    {
     "data": {
      "image/png": "[encoded data removed]",
      "text/plain": [
       "<Figure size 432x288 with 1 Axes>"
      ]
     },
     "metadata": {},
     "output_type": "display_data"
    }
   ],
   "source": [
    "results_df['Commission_Amount'].plot(kind='hist', title=\"Total Commission Amount\")"
   ]
  },
  {
   "cell_type": "markdown",
   "metadata": {},
   "source": [
    "The average commissions expense is 2.85M and the standard deviation is $103K. We can also see that the commissions payment can be as low as 2.5M or as high as 3.2M."
   ]
  },
  {
   "cell_type": "code",
   "execution_count": null,
   "metadata": {},
   "outputs": [],
   "source": []
  }
 ],
 "metadata": {
  "kernelspec": {
   "display_name": "Python [conda env:Anaconda3]",
   "language": "python",
   "name": "conda-env-Anaconda3-py"
  },
  "language_info": {
   "codemirror_mode": {
    "name": "ipython",
    "version": 3
   },
   "file_extension": ".py",
   "mimetype": "text/x-python",
   "name": "python",
   "nbconvert_exporter": "python",
   "pygments_lexer": "ipython3",
   "version": "3.5.6"
  }
 },
 "nbformat": 4,
 "nbformat_minor": 2
}
